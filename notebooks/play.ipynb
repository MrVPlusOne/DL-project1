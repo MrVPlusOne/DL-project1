{
 "cells": [
  {
   "cell_type": "code",
   "execution_count": 27,
   "metadata": {
    "collapsed": true,
    "pycharm": {
     "is_executing": false
    }
   },
   "outputs": [],
   "source": [
    "import matplotlib.pyplot as plt\n",
    "import numpy as np"
   ]
  },
  {
   "cell_type": "code",
   "execution_count": 28,
   "outputs": [
    {
     "name": "stdout",
     "text": [
      "3\n"
     ],
     "output_type": "stream"
    }
   ],
   "source": [
    "# referential transparency\n",
    "x=1+2\n",
    "print(x)"
   ],
   "metadata": {
    "collapsed": false,
    "pycharm": {
     "name": "#%%\n",
     "is_executing": false
    }
   }
  },
  {
   "cell_type": "code",
   "execution_count": 29,
   "outputs": [],
   "source": [
    "from functools import *\n",
    "\n",
    "y = reduce(lambda x, y: x + y, range(10), 0)"
   ],
   "metadata": {
    "collapsed": false,
    "pycharm": {
     "name": "#%%\n",
     "is_executing": false
    }
   }
  },
  {
   "cell_type": "markdown",
   "source": [
    "This is some **test**.\n",
    "\n",
    "fib(n)=\n",
    "\\begin{cases}\n",
    "  1 & \\text{if $n<2$}\\\\\n",
    "  fib(n-1) + fib(n-2) & \\text{otherwise}\n",
    "\\end{cases}"
   ],
   "metadata": {
    "collapsed": false
   }
  },
  {
   "cell_type": "code",
   "execution_count": 30,
   "outputs": [],
   "source": [
    "from typing import List, NewType, TypeVar, Callable\n",
    "\n",
    "A = TypeVar('A')\n",
    "B = TypeVar('B')\n",
    "\n",
    "def myMap(f: Callable[[A],B], xs: List[A]) -> List[B]:\n",
    "    pass\n",
    "\n",
    "Nat = NewType('Nat', int)\n",
    "\n",
    "def nat(n: int) -> Nat:\n",
    "    assert n >= 0\n",
    "    return Nat(n)\n",
    "\n",
    "def fib(n: Nat) -> Nat:\n",
    "    if n < 2:\n",
    "        return Nat(1)\n",
    "    else:\n",
    "        return Nat(fib(n-1) + fib(n-2))\n",
    "    "
   ],
   "metadata": {
    "collapsed": false,
    "pycharm": {
     "name": "#%%\n",
     "is_executing": false
    }
   }
  },
  {
   "cell_type": "code",
   "execution_count": 40,
   "outputs": [
    {
     "data": {
      "text/plain": "<Figure size 432x288 with 1 Axes>",
      "image/png": "[encoded data removed]"
     },
     "metadata": {
      "needs_background": "light"
     },
     "output_type": "display_data"
    }
   ],
   "source": [
    "# Prepare the data\n",
    "x = np.linspace(0, 100, 1000)\n",
    "decay = np.exp(-0.1 * x)\n",
    "y = np.sin(x) * decay\n",
    "\n",
    "# Plot the data\n",
    "plt.plot(x, y, label='damp')\n",
    "plt.plot(x, decay, label='decay')\n",
    "plt.legend()\n",
    "plt.show()"
   ],
   "metadata": {
    "collapsed": false,
    "pycharm": {
     "name": "#%%\n",
     "is_executing": false
    }
   }
  },
  {
   "cell_type": "code",
   "execution_count": null,
   "outputs": [],
   "source": [
    "\n"
   ],
   "metadata": {
    "collapsed": false,
    "pycharm": {
     "name": "#%%\n"
    }
   }
  }
 ],
 "metadata": {
  "language_info": {
   "codemirror_mode": {
    "name": "ipython",
    "version": 2
   },
   "file_extension": ".py",
   "mimetype": "text/x-python",
   "name": "python",
   "nbconvert_exporter": "python",
   "pygments_lexer": "ipython2",
   "version": "2.7.6"
  },
  "kernelspec": {
   "name": "python3",
   "language": "python",
   "display_name": "Python 3"
  },
  "pycharm": {
   "stem_cell": {
    "cell_type": "raw",
    "source": [],
    "metadata": {
     "collapsed": false
    }
   }
  }
 },
 "nbformat": 4,
 "nbformat_minor": 0
}